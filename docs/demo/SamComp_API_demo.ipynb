{
 "cells": [
  {
   "cell_type": "markdown",
   "metadata": {},
   "source": [
    "# Nanocompore SampComp API demo "
   ]
  },
  {
   "cell_type": "markdown",
   "metadata": {},
   "source": [
    "## Import the SampComp module"
   ]
  },
  {
   "cell_type": "code",
   "execution_count": 2,
   "metadata": {
    "ExecuteTime": {
     "end_time": "2019-03-25T19:06:26.866121Z",
     "start_time": "2019-03-25T19:06:26.860141Z"
    },
    "init_cell": true
   },
   "outputs": [],
   "source": [
    "from nanocompore.SampComp import SampComp"
   ]
  },
  {
   "cell_type": "markdown",
   "metadata": {},
   "source": [
    "## Initialise and call SampComp"
   ]
  },
  {
   "cell_type": "markdown",
   "metadata": {},
   "source": [
    "#### Using a Python dictionary to specify the location of the eventalign files"
   ]
  },
  {
   "cell_type": "code",
   "execution_count": 3,
   "metadata": {
    "ExecuteTime": {
     "end_time": "2019-03-25T15:57:16.004754Z",
     "start_time": "2019-03-25T15:57:14.353095Z"
    },
    "scrolled": false
   },
   "outputs": [
    {
     "name": "stderr",
     "output_type": "stream",
     "text": [
      "Initialise SampComp and checks options\n",
      "Initialise Whitelist and checks options\n",
      "Read eventalign index files\n",
      "\tReferences found in index: 5\n",
      "Filter out references with low coverage\n",
      "\tReferences remaining after reference coverage filtering: 5\n",
      "Start data processing\n",
      "100%|██████████| 5/5 [00:01<00:00,  3.07 Processed References/s]\n"
     ]
    }
   ],
   "source": [
    "# Init the object\n",
    "s = SampComp (\n",
    "    eventalign_fn_dict = {\n",
    "        'Modified': {'rep1':'./sample_files/modified_rep_1.tsv', 'rep2':'./sample_files/modified_rep_2.tsv'},\n",
    "        'Unmodified': {'rep1':'./sample_files/unmodified_rep_1.tsv', 'rep2':'./sample_files/unmodified_rep_2.tsv'}},\n",
    "    output_db_fn = \"./results/out.db\",\n",
    "    fasta_fn = \"./reference/ref.fa\")\n",
    "\n",
    "# Run the analysis\n",
    "db = s ()"
   ]
  },
  {
   "cell_type": "markdown",
   "metadata": {},
   "source": [
    "#### Using a YAML file instead to specify the files location"
   ]
  },
  {
   "cell_type": "code",
   "execution_count": 35,
   "metadata": {
    "ExecuteTime": {
     "end_time": "2019-03-25T20:03:51.287428Z",
     "start_time": "2019-03-25T20:03:40.225599Z"
    },
    "scrolled": false
   },
   "outputs": [
    {
     "name": "stderr",
     "output_type": "stream",
     "text": [
      "Initialise SampComp and checks options\n",
      "Initialise Whitelist and checks options\n",
      "Read eventalign index files\n",
      "\tReferences found in index: 5\n",
      "Filter out references with low coverage\n",
      "\tReferences remaining after reference coverage filtering: 5\n",
      "Start data processing\n",
      "100%|██████████| 5/5 [00:10<00:00,  2.28s/ Processed References]\n"
     ]
    }
   ],
   "source": [
    "# Init the object\n",
    "s = SampComp (\n",
    "    eventalign_fn_dict = \"./samples.yaml\",\n",
    "    output_db_fn = \"./results/out.db\",\n",
    "    fasta_fn = \"./reference/ref.fa\")\n",
    "\n",
    "# Run the analysis\n",
    "db = s ()"
   ]
  },
  {
   "cell_type": "markdown",
   "metadata": {
    "ExecuteTime": {
     "end_time": "2019-03-25T19:52:26.608495Z",
     "start_time": "2019-03-25T19:52:26.599982Z"
    }
   },
   "source": [
    "#### Tweaking statistical options"
   ]
  },
  {
   "cell_type": "code",
   "execution_count": null,
   "metadata": {
    "ExecuteTime": {
     "end_time": "2019-03-25T20:05:37.600176Z",
     "start_time": "2019-03-25T20:05:33.978371Z"
    }
   },
   "outputs": [],
   "source": [
    "# Init the object\n",
    "s = SampComp (\n",
    "    eventalign_fn_dict = \"./samples.yaml\",\n",
    "    output_db_fn = \"./results/out.db\",\n",
    "    fasta_fn = \"./reference/ref.fa\",\n",
    "    comparison_method=[\"GMM\", \"MW\", \"KS\"],\n",
    "    sequence_context=2,\n",
    "    sequence_context_weights='harmonic')\n",
    "\n",
    "# Run the analysis\n",
    "db = s ()"
   ]
  }
 ],
 "metadata": {
  "celltoolbar": "Initialization Cell",
  "hide_input": false,
  "kernelspec": {
   "display_name": "Python3.6",
   "language": "python",
   "name": "python3.6"
  },
  "language_info": {
   "codemirror_mode": {
    "name": "ipython",
    "version": 3
   },
   "file_extension": ".py",
   "mimetype": "text/x-python",
   "name": "python",
   "nbconvert_exporter": "python",
   "pygments_lexer": "ipython3",
   "version": "3.6.6"
  }
 },
 "nbformat": 4,
 "nbformat_minor": 2
}
