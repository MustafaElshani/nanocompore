{
 "cells": [
  {
   "cell_type": "markdown",
   "metadata": {},
   "source": [
    "# Nanocompore SampComp API demo "
   ]
  },
  {
   "cell_type": "markdown",
   "metadata": {},
   "source": [
    "## Import SampComp module"
   ]
  },
  {
   "cell_type": "code",
   "execution_count": 2,
   "metadata": {
    "ExecuteTime": {
     "end_time": "2019-03-26T10:57:08.713229Z",
     "start_time": "2019-03-26T10:57:08.710181Z"
    },
    "init_cell": true
   },
   "outputs": [],
   "source": [
    "from nanocompore.SampComp import SampComp"
   ]
  },
  {
   "cell_type": "markdown",
   "metadata": {},
   "source": [
    "## Full API documentation"
   ]
  },
  {
   "cell_type": "code",
   "execution_count": 4,
   "metadata": {
    "ExecuteTime": {
     "end_time": "2019-03-26T10:59:16.212025Z",
     "start_time": "2019-03-26T10:59:16.198241Z"
    },
    "init_cell": true
   },
   "outputs": [
    {
     "name": "stdout",
     "output_type": "stream",
     "text": [
      "Help on function __init__ in module nanocompore.SampComp:\n",
      "\n",
      "__init__(self, eventalign_fn_dict, output_db_fn, fasta_fn, bed_fn=None, whitelist=None, comparison_method=['GMM', 'KS'], force_logit=True, sequence_context=0, sequence_context_weights='uniform', min_coverage=50, downsample_high_coverage=None, max_invalid_kmers_freq=0.1, select_ref_id=[], exclude_ref_id=[], nthreads=4, log_level='info')\n",
      "    * eventalign_fn_dict: Multilevel dictionnary indicating the condition_label, sample_label and file name of the eventalign_collapse output\n",
      "        example d = {\"S1\": {\"R1\":\"path1.tsv\", \"R2\":\"path2.tsv\"}, \"S2\": {\"R1\":\"path3.tsv\", \"R2\":\"path4.tsv\"}}\n",
      "        eventalign_fn_dict can also ba a path to a YAML file\n",
      "        2 conditions are expected, and at least 2 sample replicates are highly recomended per condition\n",
      "    * output_db_fn: Path where to write the result database\n",
      "    * fasta_fn: Path to a fasta file corresponding to the reference used for read alignemnt\n",
      "    * bed_fn: Path to a BED file containing the annotation of the transcriptome used as reference when mapping\n",
      "    * whitelist: Whitelist object previously generated with nanocompore Whitelist. If not given, will be automatically generated\n",
      "    * comparison_method: Statistical method to compare the 2 samples (mann_whitney, kolmogorov_smirnov, t_test, gmm).\n",
      "        This can be a list or a comma separated string\n",
      "    * force_logit: Force logistic regression even if we have less than 2 replicates in any condition\n",
      "    * sequence_context: Extend statistical analysis to contigous adjacent base if available\n",
      "    * sequence_context_weights: type of weights to used for combining p-values. Choose between uniform and harmonic\n",
      "    * min_cov: minimal read coverage required in all sample\n",
      "    * downsample_high_coverage: For reference with higher coverage, downsample by randomly selecting reads.\n",
      "    * max_invalid_kmers_freq: maximum frequency of NNNNN, mismatching and missing kmers in reads\n",
      "    * select_ref_id: if given, only reference ids in the list will be selected for the analysis\n",
      "    * exclude_ref_id: if given, refid in the list will be excluded from the analysis\n",
      "    * nthreads: Number of threads (two are used for reading and writing, all the others for processing in parallel).\n",
      "    * log_level: Set the log level. Valid values: warning, info, debug\n",
      "\n"
     ]
    }
   ],
   "source": [
    "help (SampComp.__init__)"
   ]
  },
  {
   "cell_type": "markdown",
   "metadata": {},
   "source": [
    "## Initialise and call SampComp"
   ]
  },
  {
   "cell_type": "markdown",
   "metadata": {},
   "source": [
    "#### Using a Python dictionary to specify the location of the eventalign files"
   ]
  },
  {
   "cell_type": "code",
   "execution_count": 3,
   "metadata": {
    "ExecuteTime": {
     "end_time": "2019-03-25T15:57:16.004754Z",
     "start_time": "2019-03-25T15:57:14.353095Z"
    },
    "scrolled": false
   },
   "outputs": [
    {
     "name": "stderr",
     "output_type": "stream",
     "text": [
      "Initialise SampComp and checks options\n",
      "Initialise Whitelist and checks options\n",
      "Read eventalign index files\n",
      "\tReferences found in index: 5\n",
      "Filter out references with low coverage\n",
      "\tReferences remaining after reference coverage filtering: 5\n",
      "Start data processing\n",
      "100%|██████████| 5/5 [00:01<00:00,  3.07 Processed References/s]\n"
     ]
    }
   ],
   "source": [
    "# Init the object\n",
    "s = SampComp (\n",
    "    eventalign_fn_dict = {\n",
    "        'Modified': {'rep1':'./sample_files/modified_rep_1.tsv', 'rep2':'./sample_files/modified_rep_2.tsv'},\n",
    "        'Unmodified': {'rep1':'./sample_files/unmodified_rep_1.tsv', 'rep2':'./sample_files/unmodified_rep_2.tsv'}},\n",
    "    output_db_fn = \"./results/out.db\",\n",
    "    fasta_fn = \"./reference/ref.fa\")\n",
    "\n",
    "# Run the analysis\n",
    "db = s ()"
   ]
  },
  {
   "cell_type": "markdown",
   "metadata": {},
   "source": [
    "#### Using a YAML file instead to specify the files location"
   ]
  },
  {
   "cell_type": "code",
   "execution_count": 35,
   "metadata": {
    "ExecuteTime": {
     "end_time": "2019-03-25T20:03:51.287428Z",
     "start_time": "2019-03-25T20:03:40.225599Z"
    },
    "scrolled": false
   },
   "outputs": [
    {
     "name": "stderr",
     "output_type": "stream",
     "text": [
      "Initialise SampComp and checks options\n",
      "Initialise Whitelist and checks options\n",
      "Read eventalign index files\n",
      "\tReferences found in index: 5\n",
      "Filter out references with low coverage\n",
      "\tReferences remaining after reference coverage filtering: 5\n",
      "Start data processing\n",
      "100%|██████████| 5/5 [00:10<00:00,  2.28s/ Processed References]\n"
     ]
    }
   ],
   "source": [
    "# Init the object\n",
    "s = SampComp (\n",
    "    eventalign_fn_dict = \"./samples.yaml\",\n",
    "    output_db_fn = \"./results/out.db\",\n",
    "    fasta_fn = \"./reference/ref.fa\")\n",
    "\n",
    "# Run the analysis\n",
    "db = s ()"
   ]
  },
  {
   "cell_type": "markdown",
   "metadata": {
    "ExecuteTime": {
     "end_time": "2019-03-25T19:52:26.608495Z",
     "start_time": "2019-03-25T19:52:26.599982Z"
    }
   },
   "source": [
    "#### Tweaking statistical options"
   ]
  },
  {
   "cell_type": "code",
   "execution_count": null,
   "metadata": {
    "ExecuteTime": {
     "end_time": "2019-03-25T20:05:37.600176Z",
     "start_time": "2019-03-25T20:05:33.978371Z"
    }
   },
   "outputs": [],
   "source": [
    "# Init the object\n",
    "s = SampComp (\n",
    "    eventalign_fn_dict = \"./samples.yaml\",\n",
    "    output_db_fn = \"./results/out.db\",\n",
    "    fasta_fn = \"./reference/ref.fa\",\n",
    "    comparison_method=[\"GMM\", \"MW\", \"KS\"],\n",
    "    sequence_context=2,\n",
    "    sequence_context_weights='harmonic')\n",
    "\n",
    "# Run the analysis\n",
    "db = s ()"
   ]
  },
  {
   "cell_type": "markdown",
   "metadata": {
    "ExecuteTime": {
     "end_time": "2019-03-25T19:52:26.608495Z",
     "start_time": "2019-03-25T19:52:26.599982Z"
    }
   },
   "source": [
    "#### Tweaking statistical options"
   ]
  },
  {
   "cell_type": "code",
   "execution_count": null,
   "metadata": {
    "ExecuteTime": {
     "end_time": "2019-03-25T20:05:37.600176Z",
     "start_time": "2019-03-25T20:05:33.978371Z"
    }
   },
   "outputs": [],
   "source": [
    "# Init the object\n",
    "s = SampComp (\n",
    "    eventalign_fn_dict = \"./samples.yaml\",\n",
    "    output_db_fn = \"./results/out.db\",\n",
    "    fasta_fn = \"./reference/ref.fa\",\n",
    "    comparison_method=[\"GMM\", \"MW\", \"KS\"],\n",
    "    sequence_context=2,\n",
    "    sequence_context_weights='harmonic')\n",
    "\n",
    "# Run the analysis\n",
    "db = s ()"
   ]
  }
 ],
 "metadata": {
  "celltoolbar": "Initialization Cell",
  "hide_input": false,
  "kernelspec": {
   "display_name": "Python3.6",
   "language": "python",
   "name": "python3.6"
  },
  "language_info": {
   "codemirror_mode": {
    "name": "ipython",
    "version": 3
   },
   "file_extension": ".py",
   "mimetype": "text/x-python",
   "name": "python",
   "nbconvert_exporter": "python",
   "pygments_lexer": "ipython3",
   "version": "3.6.6"
  }
 },
 "nbformat": 4,
 "nbformat_minor": 2
}
