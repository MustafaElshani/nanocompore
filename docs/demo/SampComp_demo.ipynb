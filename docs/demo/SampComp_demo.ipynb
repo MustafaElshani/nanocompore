{
 "cells": [
  {
   "cell_type": "markdown",
   "metadata": {},
   "source": [
    "# Nanocompore SampComp API demo "
   ]
  },
  {
   "cell_type": "markdown",
   "metadata": {},
   "source": [
    "## Import SampComp module"
   ]
  },
  {
   "cell_type": "code",
   "execution_count": null,
   "metadata": {
    "ExecuteTime": {
     "end_time": "2019-03-26T12:57:02.359379Z",
     "start_time": "2019-03-26T12:57:01.344Z"
    },
    "init_cell": true
   },
   "outputs": [],
   "source": [
    "from nanocompore.SampComp import SampComp"
   ]
  },
  {
   "cell_type": "markdown",
   "metadata": {},
   "source": [
    "## Full API documentation"
   ]
  },
  {
   "cell_type": "code",
   "execution_count": 10,
   "metadata": {
    "ExecuteTime": {
     "end_time": "2019-03-26T11:32:01.898209Z",
     "start_time": "2019-03-26T11:32:01.891932Z"
    }
   },
   "outputs": [],
   "source": [
    "from pycltools.pycltools import jhelp "
   ]
  },
  {
   "cell_type": "code",
   "execution_count": 24,
   "metadata": {
    "ExecuteTime": {
     "end_time": "2019-03-26T11:39:41.010972Z",
     "start_time": "2019-03-26T11:39:40.996900Z"
    }
   },
   "outputs": [],
   "source": [
    "def jhelp (function, **kwargs):\n",
    "    \"\"\"\n",
    "    Print a pretty help string based on the name of a declared function. By default print the function\n",
    "    definition and description\n",
    "    * function\n",
    "        Name of a declared function or class method\n",
    "    \"\"\"\n",
    "    # For some reason signature is not aways importable. In these cases the build-in help in invoqued\n",
    "    try:\n",
    "        from IPython.core.display import display, Markdown, HTML\n",
    "        from inspect import signature, isfunction, ismethod\n",
    "    except (NameError, ImportError) as E:\n",
    "        warnings.warn (\"jupyter notebook is required to use this function. Please verify your dependencies\")\n",
    "        help(function)\n",
    "        return\n",
    "\n",
    "    if isfunction(function) or ismethod(function):        \n",
    "        display (HTML(\"<b>{}.{}</b> {}\".format(f.__module__, function.__name__, signature(function))))\n",
    "        for lines in \n",
    "        display(Markdown(function.__doc__))"
   ]
  },
  {
   "cell_type": "code",
   "execution_count": null,
   "metadata": {
    "ExecuteTime": {
     "end_time": "2019-03-26T13:17:01.481415Z",
     "start_time": "2019-03-26T13:17:01.475382Z"
    }
   },
   "outputs": [],
   "source": [
    "from IPython.core.display import display, Markdown, HTML\n",
    "from inspect import signature, isfunction, ismethod, getdoc, Parameter"
   ]
  },
  {
   "cell_type": "code",
   "execution_count": 38,
   "metadata": {
    "ExecuteTime": {
     "end_time": "2019-03-26T13:17:27.164560Z",
     "start_time": "2019-03-26T13:17:27.155397Z"
    }
   },
   "outputs": [
    {
     "data": {
      "text/plain": [
       "'* eventalign_fn_dict\\n    Multilevel dictionnary indicating the condition_label, sample_label and file name of the eventalign_collapse output.\\n    One can also pass YAML file describing the samples instead\\n    Example `d = {\"S1\": {\"R1\":\"path1.tsv\", \"R2\":\"path2.tsv\"}, \"S2\": {\"R1\":\"path3.tsv\", \"R2\":\"path4.tsv\"}}`\\n    2 conditions are expected and at least 2 sample replicates per condition are highly recommended\\n* output_db_fn\\n    Path where to write the result database\\n* fasta_fn\\n    Path to a fasta file corresponding to the reference used for read alignemnt\\n* bed_fn\\n    Path to a BED file containing the annotation of the transcriptome used as reference when mapping\\n* whitelist\\n    Whitelist object previously generated with nanocompore Whitelist. If not given, will be automatically generated\\n* comparison_method\\n    Statistical method to compare the 2 samples (mann_whitney, kolmogorov_smirnov, t_test, gmm).\\n    This can be a list or a comma separated string\\n* logit\\n    Force logistic regression even if we have less than 2 replicates in any condition\\n* strict\\n    if True an exception is raised if a warning is thrown by the Anova test in case a sample has a null variance\\n* sequence_context\\n    Extend statistical analysis to contigous adjacent base if available\\n* sequence_context_weights\\n    type of weights to used for combining p-values. Choose between uniform and harmonic\\n* min_cov\\n    minimal read coverage required in all sample\\n* downsample_high_coverage\\n    For reference with higher coverage, downsample by randomly selecting reads.\\n* max_invalid_kmers_freq\\n    maximum frequency of NNNNN, mismatching and missing kmers in reads\\n* select_ref_id\\n    if given, only reference ids in the list will be selected for the analysis\\n* exclude_ref_id\\n    if given, refid in the list will be excluded from the analysis\\n* nthreads\\n    Number of threads (two are used for reading and writing, all the others for processing in parallel).\\n* log_level\\n    Set the log level. Valid values: warning, info, debug'"
      ]
     },
     "execution_count": 38,
     "metadata": {},
     "output_type": "execute_result"
    }
   ],
   "source": [
    "getdoc(SampComp.__init__)"
   ]
  },
  {
   "cell_type": "code",
   "execution_count": 47,
   "metadata": {
    "ExecuteTime": {
     "end_time": "2019-03-26T13:23:27.025076Z",
     "start_time": "2019-03-26T13:23:27.012732Z"
    }
   },
   "outputs": [
    {
     "name": "stdout",
     "output_type": "stream",
     "text": [
      "self\n",
      "eventalign_fn_dict\n",
      "output_db_fn\n",
      "fasta_fn\n",
      "bed_fn\n",
      "whitelist\n",
      "comparison_method\n",
      "logit\n",
      "strict\n",
      "sequence_context\n",
      "sequence_context_weights\n",
      "min_coverage\n",
      "downsample_high_coverage\n",
      "max_invalid_kmers_freq\n",
      "select_ref_id\n",
      "exclude_ref_id\n",
      "nthreads\n",
      "log_level\n"
     ]
    }
   ],
   "source": [
    "fun = SampComp.__init__\n",
    "for p in signature(fun)._parameters:\n",
    "    print(p)"
   ]
  },
  {
   "cell_type": "code",
   "execution_count": null,
   "metadata": {},
   "outputs": [],
   "source": []
  },
  {
   "cell_type": "code",
   "execution_count": 33,
   "metadata": {
    "ExecuteTime": {
     "end_time": "2019-03-26T13:08:37.024225Z",
     "start_time": "2019-03-26T13:08:37.007598Z"
    },
    "scrolled": true
   },
   "outputs": [
    {
     "ename": "TypeError",
     "evalue": "_bind() missing 1 required positional argument: 'kwargs'",
     "output_type": "error",
     "traceback": [
      "\u001b[0;31m---------------------------------------------------------------------------\u001b[0m",
      "\u001b[0;31mTypeError\u001b[0m                                 Traceback (most recent call last)",
      "\u001b[0;32m<ipython-input-33-de1f413a6fea>\u001b[0m in \u001b[0;36m<module>\u001b[0;34m\u001b[0m\n\u001b[1;32m      6\u001b[0m \u001b[0ms\u001b[0m \u001b[0;34m=\u001b[0m \u001b[0msignature\u001b[0m\u001b[0;34m(\u001b[0m\u001b[0mf\u001b[0m\u001b[0;34m)\u001b[0m\u001b[0;34m\u001b[0m\u001b[0m\n\u001b[1;32m      7\u001b[0m \u001b[0;34m\u001b[0m\u001b[0m\n\u001b[0;32m----> 8\u001b[0;31m \u001b[0ms\u001b[0m\u001b[0;34m.\u001b[0m\u001b[0m_bind\u001b[0m\u001b[0;34m(\u001b[0m\u001b[0;34m\"bed_fn\"\u001b[0m\u001b[0;34m)\u001b[0m\u001b[0;34m\u001b[0m\u001b[0m\n\u001b[0m\u001b[1;32m      9\u001b[0m \u001b[0;34m\u001b[0m\u001b[0m\n\u001b[1;32m     10\u001b[0m \u001b[0;31m# for p in s.:\u001b[0m\u001b[0;34m\u001b[0m\u001b[0;34m\u001b[0m\u001b[0m\n",
      "\u001b[0;31mTypeError\u001b[0m: _bind() missing 1 required positional argument: 'kwargs'"
     ]
    }
   ],
   "source": [
    "from collections import *\n",
    "from IPython.core.display import display, Markdown, HTML\n",
    "from inspect import signature, isfunction, ismethod\n",
    "\n",
    "f = SampComp.__init__\n",
    "s = signature(f)\n",
    "\n",
    "s.\n",
    "\n",
    "# for p in s.:\n",
    "#     print \n",
    "\n",
    "#d = OrderedDict()\n",
    "\n",
    "# for l in f.__doc__.split(\"\\n\"):\n",
    "#     if l:\n",
    "#         l = l.strip()\n",
    "#         if l.startswith(\"*\"):\n",
    "#             lab = l[1:].strip()\n",
    "#             d[lab]=[]\n",
    "#         else:\n",
    "#             d[lab].append(l)\n",
    "            \n",
    "# print (d)"
   ]
  },
  {
   "cell_type": "code",
   "execution_count": null,
   "metadata": {
    "ExecuteTime": {
     "end_time": "2019-03-26T12:57:02.360774Z",
     "start_time": "2019-03-26T12:57:01.348Z"
    },
    "init_cell": true
   },
   "outputs": [],
   "source": [
    "jhelp (SampComp.__init__, print_private=True)"
   ]
  },
  {
   "cell_type": "markdown",
   "metadata": {},
   "source": [
    "## Initialise and call SampComp"
   ]
  },
  {
   "cell_type": "markdown",
   "metadata": {},
   "source": [
    "#### Using a Python dictionary to specify the location of the eventalign files"
   ]
  },
  {
   "cell_type": "code",
   "execution_count": 3,
   "metadata": {
    "ExecuteTime": {
     "end_time": "2019-03-25T15:57:16.004754Z",
     "start_time": "2019-03-25T15:57:14.353095Z"
    },
    "scrolled": false
   },
   "outputs": [
    {
     "name": "stderr",
     "output_type": "stream",
     "text": [
      "Initialise SampComp and checks options\n",
      "Initialise Whitelist and checks options\n",
      "Read eventalign index files\n",
      "\tReferences found in index: 5\n",
      "Filter out references with low coverage\n",
      "\tReferences remaining after reference coverage filtering: 5\n",
      "Start data processing\n",
      "100%|██████████| 5/5 [00:01<00:00,  3.07 Processed References/s]\n"
     ]
    }
   ],
   "source": [
    "# Init the object\n",
    "s = SampComp (\n",
    "    eventalign_fn_dict = {\n",
    "        'Modified': {'rep1':'./sample_files/modified_rep_1.tsv', 'rep2':'./sample_files/modified_rep_2.tsv'},\n",
    "        'Unmodified': {'rep1':'./sample_files/unmodified_rep_1.tsv', 'rep2':'./sample_files/unmodified_rep_2.tsv'}},\n",
    "    output_db_fn = \"./results/out.db\",\n",
    "    fasta_fn = \"./reference/ref.fa\")\n",
    "\n",
    "# Run the analysis\n",
    "db = s ()"
   ]
  },
  {
   "cell_type": "markdown",
   "metadata": {},
   "source": [
    "#### Using a YAML file instead to specify the files location"
   ]
  },
  {
   "cell_type": "code",
   "execution_count": 35,
   "metadata": {
    "ExecuteTime": {
     "end_time": "2019-03-25T20:03:51.287428Z",
     "start_time": "2019-03-25T20:03:40.225599Z"
    },
    "scrolled": false
   },
   "outputs": [
    {
     "name": "stderr",
     "output_type": "stream",
     "text": [
      "Initialise SampComp and checks options\n",
      "Initialise Whitelist and checks options\n",
      "Read eventalign index files\n",
      "\tReferences found in index: 5\n",
      "Filter out references with low coverage\n",
      "\tReferences remaining after reference coverage filtering: 5\n",
      "Start data processing\n",
      "100%|██████████| 5/5 [00:10<00:00,  2.28s/ Processed References]\n"
     ]
    }
   ],
   "source": [
    "# Init the object\n",
    "s = SampComp (\n",
    "    eventalign_fn_dict = \"./samples.yaml\",\n",
    "    output_db_fn = \"./results/out.db\",\n",
    "    fasta_fn = \"./reference/ref.fa\")\n",
    "\n",
    "# Run the analysis\n",
    "db = s ()"
   ]
  },
  {
   "cell_type": "markdown",
   "metadata": {
    "ExecuteTime": {
     "end_time": "2019-03-25T19:52:26.608495Z",
     "start_time": "2019-03-25T19:52:26.599982Z"
    }
   },
   "source": [
    "#### Tweaking statistical options"
   ]
  },
  {
   "cell_type": "code",
   "execution_count": null,
   "metadata": {
    "ExecuteTime": {
     "end_time": "2019-03-25T20:05:37.600176Z",
     "start_time": "2019-03-25T20:05:33.978371Z"
    }
   },
   "outputs": [],
   "source": [
    "# Init the object\n",
    "s = SampComp (\n",
    "    eventalign_fn_dict = \"./samples.yaml\",\n",
    "    output_db_fn = \"./results/out.db\",\n",
    "    fasta_fn = \"./reference/ref.fa\",\n",
    "    comparison_method=[\"GMM\", \"MW\", \"KS\"],\n",
    "    sequence_context=2,\n",
    "    sequence_context_weights='harmonic')\n",
    "\n",
    "# Run the analysis\n",
    "db = s ()"
   ]
  },
  {
   "cell_type": "markdown",
   "metadata": {
    "ExecuteTime": {
     "end_time": "2019-03-25T19:52:26.608495Z",
     "start_time": "2019-03-25T19:52:26.599982Z"
    }
   },
   "source": [
    "#### Tweaking statistical options"
   ]
  },
  {
   "cell_type": "code",
   "execution_count": null,
   "metadata": {
    "ExecuteTime": {
     "end_time": "2019-03-25T20:05:37.600176Z",
     "start_time": "2019-03-25T20:05:33.978371Z"
    }
   },
   "outputs": [],
   "source": [
    "# Init the object\n",
    "s = SampComp (\n",
    "    eventalign_fn_dict = \"./samples.yaml\",\n",
    "    output_db_fn = \"./results/out.db\",\n",
    "    fasta_fn = \"./reference/ref.fa\",\n",
    "    comparison_method=[\"GMM\", \"MW\", \"KS\"],\n",
    "    sequence_context=2,\n",
    "    sequence_context_weights='harmonic')\n",
    "\n",
    "# Run the analysis\n",
    "db = s ()"
   ]
  }
 ],
 "metadata": {
  "celltoolbar": "Initialization Cell",
  "hide_input": false,
  "kernelspec": {
   "display_name": "Python3.6",
   "language": "python",
   "name": "python3.6"
  },
  "language_info": {
   "codemirror_mode": {
    "name": "ipython",
    "version": 3
   },
   "file_extension": ".py",
   "mimetype": "text/x-python",
   "name": "python",
   "nbconvert_exporter": "python",
   "pygments_lexer": "ipython3",
   "version": "3.6.6"
  }
 },
 "nbformat": 4,
 "nbformat_minor": 2
}
