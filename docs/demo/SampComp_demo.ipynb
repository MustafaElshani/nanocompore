{
 "cells": [
  {
   "cell_type": "markdown",
   "metadata": {},
   "source": [
    "# Nanocompore SampComp API demo "
   ]
  },
  {
   "cell_type": "markdown",
   "metadata": {},
   "source": [
    "## Basic usage of SampComp"
   ]
  },
  {
   "cell_type": "markdown",
   "metadata": {},
   "source": [
    "### Import the package"
   ]
  },
  {
   "cell_type": "code",
   "execution_count": 10,
   "metadata": {
    "ExecuteTime": {
     "end_time": "2019-03-27T14:34:58.548852Z",
     "start_time": "2019-03-27T14:34:58.542013Z"
    },
    "init_cell": true
   },
   "outputs": [],
   "source": [
    "from nanocompore.SampComp import SampComp"
   ]
  },
  {
   "cell_type": "markdown",
   "metadata": {},
   "source": [
    "#### Using a Python dictionary to specify the location of the eventalign files"
   ]
  },
  {
   "cell_type": "code",
   "execution_count": 15,
   "metadata": {
    "ExecuteTime": {
     "end_time": "2019-03-27T14:47:55.450038Z",
     "start_time": "2019-03-27T14:47:54.808354Z"
    },
    "scrolled": false
   },
   "outputs": [
    {
     "name": "stderr",
     "output_type": "stream",
     "text": [
      "Initialise SampComp and checks options\n",
      "Initialise Whitelist and checks options\n",
      "Read eventalign index files\n",
      "\tReferences found in index: 5\n",
      "Filter out references with low coverage\n",
      "\tReferences remaining after reference coverage filtering: 5\n",
      "Start data processing\n",
      "  0%|          | 0/5 [00:00<?, ? Processed References/s]/home/aleg/.virtualenvs/Python3.6/lib/python3.6/site-packages/numpy/core/fromnumeric.py:3118: RuntimeWarning: Mean of empty slice.\n",
      "  out=out, **kwargs)\n",
      "/home/aleg/.virtualenvs/Python3.6/lib/python3.6/site-packages/numpy/core/_methods.py:85: RuntimeWarning: invalid value encountered in double_scalars\n",
      "  ret = ret.dtype.type(ret / rcount)\n"
     ]
    },
    {
     "ename": "NanocomporeError",
     "evalue": "Traceback (most recent call last):\n  File \"/home/aleg/Programming/nanocompore/nanocompore/SampComp.py\", line 326, in __process_references\n    strict=self.__strict,\n  File \"/home/aleg/Programming/nanocompore/nanocompore/TxComp.py\", line 67, in txCompare\n    gmm_results = gmm_test(data, anova=anova, logit=logit, strict=strict)\n  File \"/home/aleg/Programming/nanocompore/nanocompore/TxComp.py\", line 179, in gmm_test\n    aov_results = gmm_anova_test(counters, sample_condition_labels, condition_labels, gmm_ncomponents, strict=strict)\n  File \"/home/aleg/Programming/nanocompore/nanocompore/TxComp.py\", line 235, in gmm_anova_test\n    raise NanocomporeError(\"While doing the Annova test we found a sample with within variance = 0. Use strict=False to ignore.\")\nnanocompore.common.NanocomporeError: While doing the Annova test we found a sample with within variance = 0. Use strict=False to ignore.\n",
     "output_type": "error",
     "traceback": [
      "\u001b[0;31m---------------------------------------------------------------------------\u001b[0m",
      "\u001b[0;31mNanocomporeError\u001b[0m                          Traceback (most recent call last)",
      "\u001b[0;32m<ipython-input-15-1141a81d9ea3>\u001b[0m in \u001b[0;36m<module>\u001b[0;34m\u001b[0m\n\u001b[1;32m      9\u001b[0m \u001b[0;34m\u001b[0m\u001b[0m\n\u001b[1;32m     10\u001b[0m \u001b[0;31m# Run the analysis\u001b[0m\u001b[0;34m\u001b[0m\u001b[0;34m\u001b[0m\u001b[0m\n\u001b[0;32m---> 11\u001b[0;31m \u001b[0mdb\u001b[0m \u001b[0;34m=\u001b[0m \u001b[0ms\u001b[0m \u001b[0;34m(\u001b[0m\u001b[0;34m)\u001b[0m\u001b[0;34m\u001b[0m\u001b[0m\n\u001b[0m",
      "\u001b[0;32m~/Programming/nanocompore/nanocompore/SampComp.py\u001b[0m in \u001b[0;36m__call__\u001b[0;34m(self)\u001b[0m\n\u001b[1;32m    215\u001b[0m \u001b[0;34m\u001b[0m\u001b[0m\n\u001b[1;32m    216\u001b[0m         \u001b[0;31m# Kill processes if any error\u001b[0m\u001b[0;34m\u001b[0m\u001b[0;34m\u001b[0m\u001b[0m\n\u001b[0;32m--> 217\u001b[0;31m         \u001b[0;32mexcept\u001b[0m\u001b[0;34m(\u001b[0m\u001b[0mBrokenPipeError\u001b[0m\u001b[0;34m,\u001b[0m \u001b[0mKeyboardInterrupt\u001b[0m\u001b[0;34m,\u001b[0m \u001b[0mNanocomporeError\u001b[0m\u001b[0;34m)\u001b[0m \u001b[0;32mas\u001b[0m \u001b[0mE\u001b[0m\u001b[0;34m:\u001b[0m\u001b[0;34m\u001b[0m\u001b[0m\n\u001b[0m\u001b[1;32m    218\u001b[0m             \u001b[0mlogger\u001b[0m\u001b[0;34m.\u001b[0m\u001b[0mdebug\u001b[0m\u001b[0;34m(\u001b[0m\u001b[0;34m\"An error occured. Killing all processes\\n\"\u001b[0m\u001b[0;34m)\u001b[0m\u001b[0;34m\u001b[0m\u001b[0m\n\u001b[1;32m    219\u001b[0m             \u001b[0;32mraise\u001b[0m \u001b[0mE\u001b[0m\u001b[0;34m\u001b[0m\u001b[0m\n",
      "\u001b[0;32m~/Programming/nanocompore/nanocompore/SampComp.py\u001b[0m in \u001b[0;36m__call__\u001b[0;34m(self)\u001b[0m\n\u001b[1;32m    207\u001b[0m             \u001b[0;32mfor\u001b[0m \u001b[0mps\u001b[0m \u001b[0;32min\u001b[0m \u001b[0mps_list\u001b[0m\u001b[0;34m:\u001b[0m\u001b[0;34m\u001b[0m\u001b[0m\n\u001b[1;32m    208\u001b[0m                 \u001b[0mps\u001b[0m\u001b[0;34m.\u001b[0m\u001b[0mstart\u001b[0m \u001b[0;34m(\u001b[0m\u001b[0;34m)\u001b[0m\u001b[0;34m\u001b[0m\u001b[0m\n\u001b[0;32m--> 209\u001b[0;31m             \u001b[0;31m# Monitor error queue\u001b[0m\u001b[0;34m\u001b[0m\u001b[0;34m\u001b[0m\u001b[0m\n\u001b[0m\u001b[1;32m    210\u001b[0m             \u001b[0;32mfor\u001b[0m \u001b[0mtb\u001b[0m \u001b[0;32min\u001b[0m \u001b[0miter\u001b[0m \u001b[0;34m(\u001b[0m\u001b[0merror_q\u001b[0m\u001b[0;34m.\u001b[0m\u001b[0mget\u001b[0m\u001b[0;34m,\u001b[0m \u001b[0;32mNone\u001b[0m\u001b[0;34m)\u001b[0m\u001b[0;34m:\u001b[0m\u001b[0;34m\u001b[0m\u001b[0m\n\u001b[1;32m    211\u001b[0m                 \u001b[0;32mraise\u001b[0m \u001b[0mNanocomporeError\u001b[0m \u001b[0;34m(\u001b[0m\u001b[0mtb\u001b[0m\u001b[0;34m)\u001b[0m\u001b[0;34m\u001b[0m\u001b[0m\n",
      "\u001b[0;31mNanocomporeError\u001b[0m: Traceback (most recent call last):\n  File \"/home/aleg/Programming/nanocompore/nanocompore/SampComp.py\", line 326, in __process_references\n    strict=self.__strict,\n  File \"/home/aleg/Programming/nanocompore/nanocompore/TxComp.py\", line 67, in txCompare\n    gmm_results = gmm_test(data, anova=anova, logit=logit, strict=strict)\n  File \"/home/aleg/Programming/nanocompore/nanocompore/TxComp.py\", line 179, in gmm_test\n    aov_results = gmm_anova_test(counters, sample_condition_labels, condition_labels, gmm_ncomponents, strict=strict)\n  File \"/home/aleg/Programming/nanocompore/nanocompore/TxComp.py\", line 235, in gmm_anova_test\n    raise NanocomporeError(\"While doing the Annova test we found a sample with within variance = 0. Use strict=False to ignore.\")\nnanocompore.common.NanocomporeError: While doing the Annova test we found a sample with within variance = 0. Use strict=False to ignore.\n"
     ]
    }
   ],
   "source": [
    "# Init the object\n",
    "s = SampComp (\n",
    "    eventalign_fn_dict = {\n",
    "        'Modified': {'rep1':'./sample_files/modified_rep_1.tsv', 'rep2':'./sample_files/modified_rep_2.tsv'},\n",
    "        'Unmodified': {'rep1':'./sample_files/unmodified_rep_1.tsv', 'rep2':'./sample_files/unmodified_rep_2.tsv'}},\n",
    "    output_db_fn = \"./results/out.db\",\n",
    "    fasta_fn = \"./reference/ref.fa\",\n",
    "    )\n",
    "\n",
    "# Run the analysis\n",
    "db = s ()"
   ]
  },
  {
   "cell_type": "markdown",
   "metadata": {},
   "source": [
    "#### Using a YAML file instead to specify the files location"
   ]
  },
  {
   "cell_type": "code",
   "execution_count": 35,
   "metadata": {
    "ExecuteTime": {
     "end_time": "2019-03-25T20:03:51.287428Z",
     "start_time": "2019-03-25T20:03:40.225599Z"
    },
    "scrolled": false
   },
   "outputs": [
    {
     "name": "stderr",
     "output_type": "stream",
     "text": [
      "Initialise SampComp and checks options\n",
      "Initialise Whitelist and checks options\n",
      "Read eventalign index files\n",
      "\tReferences found in index: 5\n",
      "Filter out references with low coverage\n",
      "\tReferences remaining after reference coverage filtering: 5\n",
      "Start data processing\n",
      "100%|██████████| 5/5 [00:10<00:00,  2.28s/ Processed References]\n"
     ]
    }
   ],
   "source": [
    "# Init the object\n",
    "s = SampComp (\n",
    "    eventalign_fn_dict = \"./samples.yaml\",\n",
    "    output_db_fn = \"./results/out.db\",\n",
    "    fasta_fn = \"./reference/ref.fa\")\n",
    "\n",
    "# Run the analysis\n",
    "db = s ()"
   ]
  },
  {
   "cell_type": "markdown",
   "metadata": {},
   "source": [
    "## More advanced usage examples"
   ]
  },
  {
   "cell_type": "markdown",
   "metadata": {
    "ExecuteTime": {
     "end_time": "2019-03-25T19:52:26.608495Z",
     "start_time": "2019-03-25T19:52:26.599982Z"
    }
   },
   "source": [
    "#### Tweaking statistical options"
   ]
  },
  {
   "cell_type": "code",
   "execution_count": null,
   "metadata": {
    "ExecuteTime": {
     "end_time": "2019-03-25T20:05:37.600176Z",
     "start_time": "2019-03-25T20:05:33.978371Z"
    }
   },
   "outputs": [],
   "source": [
    "# Init the object\n",
    "s = SampComp (\n",
    "    eventalign_fn_dict = \"./samples.yaml\",\n",
    "    output_db_fn = \"./results/out.db\",\n",
    "    fasta_fn = \"./reference/ref.fa\",\n",
    "    comparison_method=[\"GMM\", \"MW\", \"KS\"],\n",
    "    sequence_context=2,\n",
    "    sequence_context_weights='harmonic')\n",
    "\n",
    "# Run the analysis\n",
    "db = s ()"
   ]
  },
  {
   "cell_type": "markdown",
   "metadata": {
    "ExecuteTime": {
     "end_time": "2019-03-25T19:52:26.608495Z",
     "start_time": "2019-03-25T19:52:26.599982Z"
    }
   },
   "source": [
    "#### Tweaking statistical options"
   ]
  },
  {
   "cell_type": "code",
   "execution_count": null,
   "metadata": {
    "ExecuteTime": {
     "end_time": "2019-03-25T20:05:37.600176Z",
     "start_time": "2019-03-25T20:05:33.978371Z"
    }
   },
   "outputs": [],
   "source": [
    "# Init the object\n",
    "s = SampComp (\n",
    "    eventalign_fn_dict = \"./samples.yaml\",\n",
    "    output_db_fn = \"./results/out.db\",\n",
    "    fasta_fn = \"./reference/ref.fa\",\n",
    "    comparison_method=[\"GMM\", \"MW\", \"KS\"],\n",
    "    sequence_context=2,\n",
    "    sequence_context_weights='harmonic')\n",
    "\n",
    "# Run the analysis\n",
    "db = s ()"
   ]
  },
  {
   "cell_type": "code",
   "execution_count": null,
   "metadata": {},
   "outputs": [],
   "source": []
  },
  {
   "cell_type": "code",
   "execution_count": null,
   "metadata": {},
   "outputs": [],
   "source": []
  },
  {
   "cell_type": "code",
   "execution_count": null,
   "metadata": {},
   "outputs": [],
   "source": []
  },
  {
   "cell_type": "code",
   "execution_count": null,
   "metadata": {},
   "outputs": [],
   "source": []
  },
  {
   "cell_type": "code",
   "execution_count": null,
   "metadata": {},
   "outputs": [],
   "source": []
  },
  {
   "cell_type": "markdown",
   "metadata": {},
   "source": [
    "## Full API documentation"
   ]
  },
  {
   "cell_type": "code",
   "execution_count": 8,
   "metadata": {
    "ExecuteTime": {
     "end_time": "2019-03-27T14:33:15.429411Z",
     "start_time": "2019-03-27T14:33:15.422928Z"
    },
    "scrolled": false
   },
   "outputs": [
    {
     "data": {
      "text/markdown": [
       "### nanocompore.SampComp.\\__init__\n",
       "\n",
       "Initialise a `SampComp` object and generates a white list of references with sufficient coverage for subsequent analysis. The retuned object can then be called to start the analysis.\n",
       "\n",
       "* **eventalign_fn_dict** *: dict or str (required)*\n",
       "\n",
       "Multilevel dictionnary indicating the condition_label, sample_label and file name of the eventalign_collapse output. 2 conditions are expected and at least 2 sample replicates per condition are highly recommended. One can also pass YAML file describing the samples instead. Example `d = {\"S1\": {\"R1\":\"path1.tsv\", \"R2\":\"path2.tsv\"}, \"S2\": {\"R1\":\"path3.tsv\", \"R2\":\"path4.tsv\"}}`\n",
       "\n",
       "* **output_db_fn** *: file_path (required)*\n",
       "\n",
       "Path where to write the result database\n",
       "\n",
       "* **fasta_fn** *: file_path (required)*\n",
       "\n",
       "Path to a fasta file corresponding to the reference used for read alignemnt\n",
       "\n",
       "* **bed_fn** *: file_path (default = None)*\n",
       "\n",
       "Path to a BED file containing the annotation of the transcriptome used as reference when mapping\n",
       "\n",
       "* **whitelist** *: nancocompore.Whitelist object (default = None)*\n",
       "\n",
       "Whitelist object previously generated with nanocompore Whitelist. If not given, will be automatically generated\n",
       "\n",
       "* **comparison_method** *: list of str (default = ['GMM', 'KS'])*\n",
       "\n",
       "Statistical method to compare the 2 samples (mann_whitney or MW, kolmogorov_smirnov or KS, t_test or TT, gaussian_mixture_model or GMM). This can be a list or a comma separated string\n",
       "\n",
       "* **logit** *: bool (default = True)*\n",
       "\n",
       "Force logistic regression even if we have less than 2 replicates in any condition\n",
       "\n",
       "* **strict** *: bool (default = True)*\n",
       "\n",
       "if True an exception is raised if a warning is thrown by the Anova test in case a sample has a null variance\n",
       "\n",
       "* **sequence_context** *: int (default = 0)*\n",
       "\n",
       "Extend statistical analysis to contigous adjacent base if available\n",
       "\n",
       "* **sequence_context_weights** *: {uniform,harmonic} (default = uniform)*\n",
       "\n",
       "type of weights to used for combining p-values.\n",
       "\n",
       "* **min_coverage** *: int (default = 50)*\n",
       "\n",
       "minimal read coverage required in all sample\n",
       "\n",
       "* **downsample_high_coverage** *: int (default = 0)*\n",
       "\n",
       "For reference with higher coverage, downsample by randomly selecting reads.\n",
       "\n",
       "* **max_invalid_kmers_freq** *: float (default = 0.1)*\n",
       "\n",
       "maximum frequency of NNNNN, mismatching and missing kmers in reads\n",
       "\n",
       "* **select_ref_id** *: list or str (default = [])*\n",
       "\n",
       "if given, only reference ids in the list will be selected for the analysis\n",
       "\n",
       "* **exclude_ref_id** *: list or str (default = [])*\n",
       "\n",
       "if given, refid in the list will be excluded from the analysis\n",
       "\n",
       "* **nthreads** *: int <= 4 (default = 4)*\n",
       "\n",
       "Number of threads (two are used for reading and writing, all the others for processing in parallel).\n",
       "\n",
       "* **log_level** *: {warning,info,debug} (default = info)*\n",
       "\n",
       "Set the log level.\n",
       "\n"
      ],
      "text/plain": [
       "<IPython.core.display.Markdown object>"
      ]
     },
     "metadata": {},
     "output_type": "display_data"
    }
   ],
   "source": [
    "from nanocompore.common import jhelp\n",
    "\n",
    "jhelp(SampComp)"
   ]
  },
  {
   "cell_type": "code",
   "execution_count": 4,
   "metadata": {
    "ExecuteTime": {
     "end_time": "2019-03-27T12:52:35.805278Z",
     "start_time": "2019-03-27T12:52:35.793378Z"
    }
   },
   "outputs": [
    {
     "data": {
      "text/plain": [
       "type"
      ]
     },
     "execution_count": 4,
     "metadata": {},
     "output_type": "execute_result"
    }
   ],
   "source": []
  },
  {
   "cell_type": "code",
   "execution_count": null,
   "metadata": {},
   "outputs": [],
   "source": []
  },
  {
   "cell_type": "markdown",
   "metadata": {},
   "source": [
    "## Initialise and call SampComp"
   ]
  }
 ],
 "metadata": {
  "celltoolbar": "Initialization Cell",
  "hide_input": false,
  "kernelspec": {
   "display_name": "Python3.6",
   "language": "python",
   "name": "python3.6"
  }
 },
 "nbformat": 4,
 "nbformat_minor": 2
}
